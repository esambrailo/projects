{
 "cells": [
  {
   "cell_type": "markdown",
   "id": "482f4a4b-1f19-460a-8974-335914d638d8",
   "metadata": {},
   "source": [
    "### Scraping Berkeley Earth\n",
    "\n",
    "**Using this to retreive the average temperature data for each of the countries available in Berkeley Earth.**"
   ]
  },
  {
   "cell_type": "code",
   "execution_count": 29,
   "id": "2d0fd08d-6ace-4c94-b9a1-60452fa80181",
   "metadata": {},
   "outputs": [],
   "source": [
    "import numpy as np\n",
    "import pandas as pd\n",
    "import matplotlib.pyplot as plt\n",
    "\n",
    "%matplotlib inline"
   ]
  },
  {
   "cell_type": "markdown",
   "id": "0145fe1b-d14e-452f-854c-18e0cf72a043",
   "metadata": {},
   "source": [
    "**List of countries**\n",
    " - First quantifying the list of all the countries.\n",
    " - The below file 'countries.csv' is a list of all the countries available on Berkeley Earth.\n",
    " - This was manually created from a Berkeley Earth copy. "
   ]
  },
  {
   "cell_type": "code",
   "execution_count": 30,
   "id": "709a6cc7-d2ba-4f99-a072-c6328319a256",
   "metadata": {},
   "outputs": [
    {
     "name": "stdout",
     "output_type": "stream",
     "text": [
      "Total Countries: 237\n"
     ]
    }
   ],
   "source": [
    "countries = pd.read_csv('countries.csv')\n",
    "country_lst = list(countries.Country.unique()) #creating a list of all the countries\n",
    "country_lst = [country.replace(\" \",\"-\") for country in country_lst]\n",
    "print('Total Countries:', len(country_lst))"
   ]
  },
  {
   "cell_type": "markdown",
   "id": "74e1b989-fb4b-4d86-bdf4-152df6977aee",
   "metadata": {},
   "source": [
    "**Files to download**\n",
    " - All necessary files can be found at the following URL:\n",
    "\n",
    "    http://berkeleyearth.lbl.gov/auto/Regional/TAVG/Text/\n",
    "    \n",
    " - The directory at this location contains the necessary text files in the following format:\n",
    "\n",
    "    '{country}-TAVG-Trend.txt'\n",
    "    \n",
    "**Below are two functions that take a list of countries as an argument, download the files available, and return a list of unsuccessful attempts.**"
   ]
  },
  {
   "cell_type": "code",
   "execution_count": 31,
   "id": "8089d35c-f71b-4c0c-85ea-cbefaa24dbab",
   "metadata": {},
   "outputs": [],
   "source": [
    "import requests #library for making URL requests\n",
    "\n",
    "def dwnld_data(country):\n",
    "    '''function that downloads the text file from Berkeley Earth for a given country'''\n",
    "    #setting url to be f string that matches country to be downloaded. \n",
    "    url = f'http://berkeleyearth.lbl.gov/auto/Regional/TAVG/Text/{country.lower()}-TAVG-Trend.txt'\n",
    "    response = requests.get(url) #sends request and records response.\n",
    "    if response.status_code == 404: #if unsuccessful returns '404'\n",
    "        return '404'\n",
    "    else: #otherwise writes a .txt file with countries name to current folder\n",
    "        open(f\"./country_data/{country}.txt\", \"wb\").write(response.content)\n",
    "        pass"
   ]
  },
  {
   "cell_type": "code",
   "execution_count": 32,
   "id": "ea123005-3db8-4f2f-b2de-b1931a26c8c3",
   "metadata": {},
   "outputs": [],
   "source": [
    "def countries_data(country_list):\n",
    "    '''function that passes a list of countries to dwnld_data \n",
    "    and quantifies unsuccessful attempts.'''\n",
    "    unsuccessful = [] #list to hold countries for unsuccessful download\n",
    "    for country in country_list:\n",
    "        if dwnld_data(country) == '404': #performs 'dwnld_data()' function and checks if country is successful\n",
    "            unsuccessful.append(country) #appends unsuccessful countries to list\n",
    "    return unsuccessful"
   ]
  },
  {
   "cell_type": "markdown",
   "id": "4774553f-613b-475c-96fb-d888c21cd844",
   "metadata": {},
   "source": [
    "**Testing of the above code for a sample list of countries**"
   ]
  },
  {
   "cell_type": "code",
   "execution_count": 34,
   "id": "d062c24f-efa6-4918-bce8-4b400953dbf3",
   "metadata": {},
   "outputs": [
    {
     "data": {
      "text/plain": [
       "['Afghanistan',\n",
       " 'Åland',\n",
       " 'Albania',\n",
       " 'Algeria',\n",
       " 'American-Samoa',\n",
       " 'Andorra',\n",
       " 'Angola',\n",
       " 'Anguilla',\n",
       " 'Antarctica',\n",
       " 'Antigua-and-Barbuda',\n",
       " 'Argentina',\n",
       " 'Armenia',\n",
       " 'Aruba',\n",
       " 'Australia',\n",
       " 'Austria',\n",
       " 'Azerbaijan',\n",
       " 'Bahamas',\n",
       " 'Bahrain',\n",
       " 'Baker-Island',\n",
       " 'Bangladesh',\n",
       " 'Barbados',\n",
       " 'Belarus',\n",
       " 'Belgium',\n",
       " 'Belize',\n",
       " 'Benin',\n",
       " 'Bhutan',\n",
       " 'Bolivia',\n",
       " 'Bonaire,-Saint-Eustatius-and-Saba',\n",
       " 'Bosnia-and-Herzegovina',\n",
       " 'Botswana']"
      ]
     },
     "execution_count": 34,
     "metadata": {},
     "output_type": "execute_result"
    }
   ],
   "source": [
    "country_sample = country_lst[0:30] #sample list of countries to test\n",
    "country_sample"
   ]
  },
  {
   "cell_type": "code",
   "execution_count": 38,
   "id": "5dc3316a-4e6b-424d-b6c9-fc8475472a79",
   "metadata": {},
   "outputs": [],
   "source": [
    "unsuccessful = countries_data(country_lst)"
   ]
  },
  {
   "cell_type": "code",
   "execution_count": 39,
   "id": "762e2995-0835-41e2-b854-3ebcc36ee86d",
   "metadata": {},
   "outputs": [
    {
     "name": "stdout",
     "output_type": "stream",
     "text": [
      "The countries that did not download: ['Åland', \"Côte-d'Ivoire\", 'Curaçao', 'Saint-Barthélemy']\n"
     ]
    }
   ],
   "source": [
    "print('The countries that did not download:', unsuccessful)"
   ]
  },
  {
   "cell_type": "code",
   "execution_count": 40,
   "id": "7a65c99e-3e3f-4f06-9381-ae296368f059",
   "metadata": {},
   "outputs": [
    {
     "name": "stdout",
     "output_type": "stream",
     "text": [
      "4\n"
     ]
    }
   ],
   "source": [
    "print(len(unsuccessful))"
   ]
  },
  {
   "cell_type": "code",
   "execution_count": null,
   "id": "4ecf4da4-f9d4-4cf8-a3db-45bab5612517",
   "metadata": {},
   "outputs": [],
   "source": []
  }
 ],
 "metadata": {
  "kernelspec": {
   "display_name": "Python 3 (ipykernel)",
   "language": "python",
   "name": "python3"
  },
  "language_info": {
   "codemirror_mode": {
    "name": "ipython",
    "version": 3
   },
   "file_extension": ".py",
   "mimetype": "text/x-python",
   "name": "python",
   "nbconvert_exporter": "python",
   "pygments_lexer": "ipython3",
   "version": "3.9.13"
  }
 },
 "nbformat": 4,
 "nbformat_minor": 5
}
